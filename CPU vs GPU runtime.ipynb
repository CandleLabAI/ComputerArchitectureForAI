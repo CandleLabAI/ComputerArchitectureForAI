{
 "cells": [
  {
   "cell_type": "code",
   "execution_count": 1,
   "id": "1a2d644a",
   "metadata": {
    "id": "1a2d644a"
   },
   "outputs": [],
   "source": [
    "import torch\n",
    "import torch.nn as nn"
   ]
  },
  {
   "cell_type": "code",
   "execution_count": 2,
   "id": "6d615dc3",
   "metadata": {},
   "outputs": [],
   "source": [
    "import opendatasets as od\n",
    "from pathlib import Path"
   ]
  },
  {
   "cell_type": "code",
   "execution_count": 3,
   "id": "f69ffe9f",
   "metadata": {
    "colab": {
     "base_uri": "https://localhost:8080/",
     "height": 36
    },
    "id": "f69ffe9f",
    "outputId": "07d3085c-7b11-4882-8fa8-8b1005299daf"
   },
   "outputs": [
    {
     "data": {
      "text/plain": [
       "'2.0.1'"
      ]
     },
     "execution_count": 3,
     "metadata": {},
     "output_type": "execute_result"
    }
   ],
   "source": [
    "torch.__version__"
   ]
  },
  {
   "cell_type": "code",
   "execution_count": 7,
   "id": "63f96882",
   "metadata": {},
   "outputs": [
    {
     "name": "stdout",
     "output_type": "stream",
     "text": [
      "Downloading asl-alphabet.zip to ./asl-alphabet\n"
     ]
    },
    {
     "name": "stderr",
     "output_type": "stream",
     "text": [
      "100%|██████████████████████████████████████| 1.03G/1.03G [02:43<00:00, 6.75MB/s]\n"
     ]
    },
    {
     "name": "stdout",
     "output_type": "stream",
     "text": [
      "\n"
     ]
    }
   ],
   "source": [
    "od.download(\"https://www.kaggle.com/datasets/grassknoted/asl-alphabet\")"
   ]
  },
  {
   "cell_type": "code",
   "execution_count": 14,
   "id": "b3208254",
   "metadata": {
    "colab": {
     "base_uri": "https://localhost:8080/"
    },
    "id": "b3208254",
    "outputId": "a269ad72-b842-4d77-b556-202212f88e8a"
   },
   "outputs": [
    {
     "data": {
      "text/plain": [
       "(PosixPath('asl-alphabet/asl_alphabet_train/asl_alphabet_train'),\n",
       " PosixPath('asl-alphabet/asl_alphabet_test/asl_alphabet_test'))"
      ]
     },
     "execution_count": 14,
     "metadata": {},
     "output_type": "execute_result"
    }
   ],
   "source": [
    "from pathlib import Path\n",
    "\n",
    "train_dir = Path(\"asl-alphabet/asl_alphabet_train/asl_alphabet_train\")\n",
    "test_dir = Path(\"asl-alphabet/asl_alphabet_test/asl_alphabet_test\")\n",
    "\n",
    "train_dir, test_dir"
   ]
  },
  {
   "cell_type": "code",
   "execution_count": 15,
   "id": "35e94925",
   "metadata": {
    "colab": {
     "base_uri": "https://localhost:8080/",
     "height": 286
    },
    "id": "35e94925",
    "outputId": "e0e7b3cb-328a-4534-d013-74620ff3a864"
   },
   "outputs": [
    {
     "ename": "TypeError",
     "evalue": "unsupported operand type(s) for +: 'PosixPath' and 'str'",
     "output_type": "error",
     "traceback": [
      "\u001b[0;31m---------------------------------------------------------------------------\u001b[0m",
      "\u001b[0;31mTypeError\u001b[0m                                 Traceback (most recent call last)",
      "Cell \u001b[0;32mIn[15], line 9\u001b[0m\n\u001b[1;32m      6\u001b[0m random\u001b[38;5;241m.\u001b[39mseed(\u001b[38;5;241m21\u001b[39m) \u001b[38;5;66;03m# <- try changing this and see what happens\u001b[39;00m\n\u001b[1;32m      8\u001b[0m \u001b[38;5;66;03m# 1. Get all image paths (* means \"any combination\")\u001b[39;00m\n\u001b[0;32m----> 9\u001b[0m image_path_list \u001b[38;5;241m=\u001b[39m \u001b[38;5;28mlist\u001b[39m(glob\u001b[38;5;241m.\u001b[39mglob(\u001b[43mtrain_dir\u001b[49m\u001b[38;5;241;43m+\u001b[39;49m\u001b[38;5;124;43m'\u001b[39;49m\u001b[38;5;124;43m/**/*.jpg\u001b[39;49m\u001b[38;5;124;43m'\u001b[39;49m))\n\u001b[1;32m     11\u001b[0m \u001b[38;5;66;03m# 2. Get random image path\u001b[39;00m\n\u001b[1;32m     12\u001b[0m random_image_path \u001b[38;5;241m=\u001b[39m random\u001b[38;5;241m.\u001b[39mchoice(image_path_list)\n",
      "\u001b[0;31mTypeError\u001b[0m: unsupported operand type(s) for +: 'PosixPath' and 'str'"
     ]
    }
   ],
   "source": [
    "import random\n",
    "from PIL import Image\n",
    "import glob\n",
    "\n",
    "# Set seed\n",
    "random.seed(21) # <- try changing this and see what happens\n",
    "\n",
    "# 1. Get all image paths (* means \"any combination\")\n",
    "image_path_list = list(glob.glob(train_dir+'/**/*.jpg'))\n",
    "\n",
    "# 2. Get random image path\n",
    "random_image_path = random.choice(image_path_list)\n",
    "\n",
    "# 3. Get image class from path name (the image class is the name of the directory where the image is stored)\n",
    "image_class = random_image_path\n",
    "\n",
    "# 4. Open image\n",
    "img = Image.open(random_image_path)\n",
    "\n",
    "# 5. Print metadatad\n",
    "print(f\"Random image path: {random_image_path}\")\n",
    "print(f\"Image class: {image_class}\")\n",
    "print(f\"Image height: {img.height}\") \n",
    "print(f\"Image width: {img.width}\")\n",
    "img"
   ]
  },
  {
   "cell_type": "code",
   "execution_count": 13,
   "id": "93022ccc",
   "metadata": {
    "colab": {
     "base_uri": "https://localhost:8080/"
    },
    "id": "93022ccc",
    "outputId": "3e93eea1-9b8e-48fc-a7f5-615b44f162cf"
   },
   "outputs": [
    {
     "ename": "NameError",
     "evalue": "name 'img' is not defined",
     "output_type": "error",
     "traceback": [
      "\u001b[0;31m---------------------------------------------------------------------------\u001b[0m",
      "\u001b[0;31mNameError\u001b[0m                                 Traceback (most recent call last)",
      "Cell \u001b[0;32mIn[13], line 3\u001b[0m\n\u001b[1;32m      1\u001b[0m \u001b[38;5;28;01mimport\u001b[39;00m \u001b[38;5;21;01mnumpy\u001b[39;00m \u001b[38;5;28;01mas\u001b[39;00m \u001b[38;5;21;01mnp\u001b[39;00m\n\u001b[0;32m----> 3\u001b[0m img_arr \u001b[38;5;241m=\u001b[39m np\u001b[38;5;241m.\u001b[39masarray(\u001b[43mimg\u001b[49m)\n\u001b[1;32m      5\u001b[0m img_arr\u001b[38;5;241m.\u001b[39mshape\n",
      "\u001b[0;31mNameError\u001b[0m: name 'img' is not defined"
     ]
    }
   ],
   "source": [
    "import numpy as np\n",
    "\n",
    "img_arr = np.asarray(img)\n",
    "\n",
    "img_arr.shape"
   ]
  },
  {
   "cell_type": "code",
   "execution_count": 16,
   "id": "bcf5e6d2",
   "metadata": {
    "id": "bcf5e6d2"
   },
   "outputs": [],
   "source": [
    "from torch.utils.data import DataLoader\n",
    "from torchvision import datasets, transforms"
   ]
  },
  {
   "cell_type": "code",
   "execution_count": 17,
   "id": "71ca0d3d",
   "metadata": {
    "id": "71ca0d3d"
   },
   "outputs": [],
   "source": [
    "data_transform = transforms.Compose([\n",
    "    transforms.Resize(size=(64, 64)),\n",
    "    transforms.RandomHorizontalFlip(p=0.5),\n",
    "    transforms.ToTensor()\n",
    "])"
   ]
  },
  {
   "cell_type": "code",
   "execution_count": 24,
   "id": "09f969f3",
   "metadata": {
    "id": "09f969f3"
   },
   "outputs": [],
   "source": [
    "from torchvision import datasets\n",
    "\n",
    "data = datasets.ImageFolder(root = train_dir,\n",
    "                                 transform = data_transform)"
   ]
  },
  {
   "cell_type": "code",
   "execution_count": 26,
   "id": "5ce18d94",
   "metadata": {
    "colab": {
     "base_uri": "https://localhost:8080/"
    },
    "id": "5ce18d94",
    "outputId": "483bcac2-8f97-4e28-bcb9-747ebf29c215"
   },
   "outputs": [
    {
     "name": "stdout",
     "output_type": "stream",
     "text": [
      "Train data:\n",
      "Dataset ImageFolder\n",
      "    Number of datapoints: 87000\n",
      "    Root location: asl-alphabet/asl_alphabet_train/asl_alphabet_train\n",
      "    StandardTransform\n",
      "Transform: Compose(\n",
      "               Resize(size=(64, 64), interpolation=bilinear, max_size=None, antialias=warn)\n",
      "               RandomHorizontalFlip(p=0.5)\n",
      "               ToTensor()\n",
      "           )\n"
     ]
    }
   ],
   "source": [
    "print(f\"Train data:\\n{data}\")"
   ]
  },
  {
   "cell_type": "code",
   "execution_count": 34,
   "id": "1815abca",
   "metadata": {
    "colab": {
     "base_uri": "https://localhost:8080/"
    },
    "id": "1815abca",
    "outputId": "c7672921-3f0c-4d9a-e568-97abeb1262b5"
   },
   "outputs": [
    {
     "data": {
      "text/plain": [
       "['A',\n",
       " 'B',\n",
       " 'C',\n",
       " 'D',\n",
       " 'E',\n",
       " 'F',\n",
       " 'G',\n",
       " 'H',\n",
       " 'I',\n",
       " 'J',\n",
       " 'K',\n",
       " 'L',\n",
       " 'M',\n",
       " 'N',\n",
       " 'O',\n",
       " 'P',\n",
       " 'Q',\n",
       " 'R',\n",
       " 'S',\n",
       " 'T',\n",
       " 'U',\n",
       " 'V',\n",
       " 'W',\n",
       " 'X',\n",
       " 'Y',\n",
       " 'Z',\n",
       " 'del',\n",
       " 'nothing',\n",
       " 'space']"
      ]
     },
     "execution_count": 34,
     "metadata": {},
     "output_type": "execute_result"
    }
   ],
   "source": [
    "class_names = data.classes\n",
    "class_names"
   ]
  },
  {
   "cell_type": "code",
   "execution_count": 28,
   "id": "6241885f",
   "metadata": {},
   "outputs": [],
   "source": [
    "train_size = int(0.8*len(data))\n",
    "test_size = len(data)-train_size\n",
    "train_data, test_data = torch.utils.data.random_split(data, [train_size,test_size])"
   ]
  },
  {
   "cell_type": "code",
   "execution_count": 29,
   "id": "a8bb9493",
   "metadata": {
    "colab": {
     "base_uri": "https://localhost:8080/"
    },
    "id": "a8bb9493",
    "outputId": "5c39566c-a949-492b-cdc6-7440cda5b4fc"
   },
   "outputs": [
    {
     "data": {
      "text/plain": [
       "(69600, 17400)"
      ]
     },
     "execution_count": 29,
     "metadata": {},
     "output_type": "execute_result"
    }
   ],
   "source": [
    "len(train_data), len(test_data)"
   ]
  },
  {
   "cell_type": "code",
   "execution_count": 30,
   "id": "2ebb1ad8",
   "metadata": {
    "colab": {
     "base_uri": "https://localhost:8080/"
    },
    "id": "2ebb1ad8",
    "outputId": "e819241f-9349-4798-af93-c1d1ec32f584"
   },
   "outputs": [
    {
     "name": "stdout",
     "output_type": "stream",
     "text": [
      "torch.Size([3, 64, 64])\n",
      "torch.float32\n",
      "26\n"
     ]
    }
   ],
   "source": [
    "img, label = train_data[3001][0], train_data[3001][1]\n",
    "print(img.shape)\n",
    "print(img.dtype)\n",
    "print(label)"
   ]
  },
  {
   "cell_type": "code",
   "execution_count": 31,
   "id": "51083b5c",
   "metadata": {
    "colab": {
     "base_uri": "https://localhost:8080/"
    },
    "id": "51083b5c",
    "outputId": "344fbf98-710e-416c-de29-6e6f6dbf131c"
   },
   "outputs": [
    {
     "data": {
      "text/plain": [
       "(<torch.utils.data.dataloader.DataLoader at 0x1686ea470>,\n",
       " <torch.utils.data.dataloader.DataLoader at 0x165b446d0>)"
      ]
     },
     "execution_count": 31,
     "metadata": {},
     "output_type": "execute_result"
    }
   ],
   "source": [
    "from torch.utils.data import DataLoader\n",
    "\n",
    "train_dataloader = DataLoader(dataset = train_data,\n",
    "                    batch_size = 32,\n",
    "                    shuffle = True)\n",
    "\n",
    "test_dataloader = DataLoader(dataset = test_data,\n",
    "                    batch_size = 32,\n",
    "                    shuffle=False)\n",
    "\n",
    "\n",
    "train_dataloader, test_dataloader"
   ]
  },
  {
   "cell_type": "code",
   "execution_count": 32,
   "id": "5ae7b80e",
   "metadata": {
    "colab": {
     "base_uri": "https://localhost:8080/"
    },
    "id": "5ae7b80e",
    "outputId": "e495fa62-ce20-491c-d05d-5ae9eab636a7"
   },
   "outputs": [
    {
     "name": "stdout",
     "output_type": "stream",
     "text": [
      "torch.Size([32, 3, 64, 64])\n",
      "tensor([18, 20, 17, 21,  4, 14, 22, 10,  6,  7, 10, 14, 13, 19,  1, 13, 19,  0,\n",
      "         1,  0, 15,  7,  2, 26, 28, 24,  7,  4, 25, 12,  3,  4])\n"
     ]
    }
   ],
   "source": [
    "img, label = next(iter(train_dataloader))\n",
    "print(img.shape)\n",
    "print(label)"
   ]
  },
  {
   "cell_type": "code",
   "execution_count": 37,
   "id": "6df43470",
   "metadata": {
    "colab": {
     "base_uri": "https://localhost:8080/",
     "height": 217
    },
    "id": "6df43470",
    "outputId": "74f22f21-34cc-4c46-d97e-86e28e77e022"
   },
   "outputs": [
    {
     "data": {
      "text/plain": [
       "network(\n",
       "  (convblock1): Sequential(\n",
       "    (0): Conv2d(3, 8, kernel_size=(3, 3), stride=(1, 1), padding=(1, 1))\n",
       "    (1): BatchNorm2d(8, eps=1e-05, momentum=0.1, affine=True, track_running_stats=True)\n",
       "    (2): ReLU()\n",
       "    (3): Conv2d(8, 8, kernel_size=(3, 3), stride=(1, 1), padding=(1, 1))\n",
       "    (4): BatchNorm2d(8, eps=1e-05, momentum=0.1, affine=True, track_running_stats=True)\n",
       "    (5): ReLU()\n",
       "    (6): MaxPool2d(kernel_size=2, stride=2, padding=0, dilation=1, ceil_mode=False)\n",
       "  )\n",
       "  (convblock2): Sequential(\n",
       "    (0): Conv2d(8, 16, kernel_size=(3, 3), stride=(1, 1), padding=(1, 1))\n",
       "    (1): BatchNorm2d(16, eps=1e-05, momentum=0.1, affine=True, track_running_stats=True)\n",
       "    (2): ReLU()\n",
       "    (3): MaxPool2d(kernel_size=2, stride=2, padding=0, dilation=1, ceil_mode=False)\n",
       "    (4): Conv2d(16, 16, kernel_size=(3, 3), stride=(1, 1), padding=(1, 1))\n",
       "    (5): BatchNorm2d(16, eps=1e-05, momentum=0.1, affine=True, track_running_stats=True)\n",
       "    (6): ReLU()\n",
       "    (7): Conv2d(16, 32, kernel_size=(3, 3), stride=(1, 1), padding=(1, 1))\n",
       "    (8): BatchNorm2d(32, eps=1e-05, momentum=0.1, affine=True, track_running_stats=True)\n",
       "    (9): ReLU()\n",
       "    (10): MaxPool2d(kernel_size=2, stride=2, padding=0, dilation=1, ceil_mode=False)\n",
       "  )\n",
       "  (fcblock): Sequential(\n",
       "    (0): Flatten(start_dim=1, end_dim=-1)\n",
       "    (1): Linear(in_features=2048, out_features=32, bias=True)\n",
       "    (2): Dropout(p=0.2, inplace=False)\n",
       "    (3): Linear(in_features=32, out_features=29, bias=True)\n",
       "  )\n",
       ")"
      ]
     },
     "execution_count": 37,
     "metadata": {},
     "output_type": "execute_result"
    }
   ],
   "source": [
    "class network(nn.Module):\n",
    "    \n",
    "    def __init__(self, input_channels: int, output_channels: int):\n",
    "        super().__init__()\n",
    "        self.convblock1 = nn.Sequential(\n",
    "            nn.Conv2d(input_channels,8,3,1,1),\n",
    "            nn.BatchNorm2d(8),\n",
    "            nn.ReLU(),\n",
    "            #nn.MaxPool2d(2,stride=2),\n",
    "            nn.Conv2d(8,8,3,1,1),\n",
    "            nn.BatchNorm2d(8),\n",
    "            nn.ReLU(),\n",
    "            nn.MaxPool2d(2,stride=2))\n",
    "            \n",
    "        self.convblock2 = nn.Sequential(\n",
    "            nn.Conv2d(8,16,3,1,1),\n",
    "            nn.BatchNorm2d(16),\n",
    "            nn.ReLU(),\n",
    "            nn.MaxPool2d(2,stride=2),\n",
    "            nn.Conv2d(16,16,3,1,1),\n",
    "            nn.BatchNorm2d(16),\n",
    "            nn.ReLU(),\n",
    "            nn.Conv2d(16,32,3,1,1),\n",
    "            nn.BatchNorm2d(32),\n",
    "            nn.ReLU(),\n",
    "            nn.MaxPool2d(2,stride=2))\n",
    "   \n",
    "        \n",
    "        self.fcblock = nn.Sequential(\n",
    "            nn.Flatten(),\n",
    "            nn.Linear(8*8*32,32),\n",
    "            nn.Dropout(p=0.2),\n",
    "            nn.Linear(32,output_channels)\n",
    "        )\n",
    "        \n",
    "    def forward(self, x: torch.Tensor):\n",
    "        x = self.convblock1(x)\n",
    "        x = self.convblock2(x)\n",
    "        x = self.fcblock(x)\n",
    "        return x\n",
    "\n",
    "torch.manual_seed(21)\n",
    "model = network(3,len(data.classes)).to(device)\n",
    "model"
   ]
  },
  {
   "cell_type": "code",
   "execution_count": 38,
   "id": "457398f6",
   "metadata": {
    "colab": {
     "base_uri": "https://localhost:8080/"
    },
    "id": "457398f6",
    "outputId": "bede41fa-fdc2-4e54-d761-d0511dac76d3"
   },
   "outputs": [
    {
     "data": {
      "text/plain": [
       "==========================================================================================\n",
       "Layer (type:depth-idx)                   Output Shape              Param #\n",
       "==========================================================================================\n",
       "network                                  [1, 29]                   --\n",
       "├─Sequential: 1-1                        [1, 8, 32, 32]            --\n",
       "│    └─Conv2d: 2-1                       [1, 8, 64, 64]            224\n",
       "│    └─BatchNorm2d: 2-2                  [1, 8, 64, 64]            16\n",
       "│    └─ReLU: 2-3                         [1, 8, 64, 64]            --\n",
       "│    └─Conv2d: 2-4                       [1, 8, 64, 64]            584\n",
       "│    └─BatchNorm2d: 2-5                  [1, 8, 64, 64]            16\n",
       "│    └─ReLU: 2-6                         [1, 8, 64, 64]            --\n",
       "│    └─MaxPool2d: 2-7                    [1, 8, 32, 32]            --\n",
       "├─Sequential: 1-2                        [1, 32, 8, 8]             --\n",
       "│    └─Conv2d: 2-8                       [1, 16, 32, 32]           1,168\n",
       "│    └─BatchNorm2d: 2-9                  [1, 16, 32, 32]           32\n",
       "│    └─ReLU: 2-10                        [1, 16, 32, 32]           --\n",
       "│    └─MaxPool2d: 2-11                   [1, 16, 16, 16]           --\n",
       "│    └─Conv2d: 2-12                      [1, 16, 16, 16]           2,320\n",
       "│    └─BatchNorm2d: 2-13                 [1, 16, 16, 16]           32\n",
       "│    └─ReLU: 2-14                        [1, 16, 16, 16]           --\n",
       "│    └─Conv2d: 2-15                      [1, 32, 16, 16]           4,640\n",
       "│    └─BatchNorm2d: 2-16                 [1, 32, 16, 16]           64\n",
       "│    └─ReLU: 2-17                        [1, 32, 16, 16]           --\n",
       "│    └─MaxPool2d: 2-18                   [1, 32, 8, 8]             --\n",
       "├─Sequential: 1-3                        [1, 29]                   --\n",
       "│    └─Flatten: 2-19                     [1, 2048]                 --\n",
       "│    └─Linear: 2-20                      [1, 32]                   65,568\n",
       "│    └─Dropout: 2-21                     [1, 32]                   --\n",
       "│    └─Linear: 2-22                      [1, 29]                   957\n",
       "==========================================================================================\n",
       "Total params: 75,621\n",
       "Trainable params: 75,621\n",
       "Non-trainable params: 0\n",
       "Total mult-adds (M): 6.35\n",
       "==========================================================================================\n",
       "Input size (MB): 0.05\n",
       "Forward/backward pass size (MB): 1.51\n",
       "Params size (MB): 0.30\n",
       "Estimated Total Size (MB): 1.86\n",
       "=========================================================================================="
      ]
     },
     "execution_count": 38,
     "metadata": {},
     "output_type": "execute_result"
    }
   ],
   "source": [
    "from torchinfo import summary\n",
    "summary(model, input_size = [1,3,64,64])"
   ]
  },
  {
   "cell_type": "code",
   "execution_count": 39,
   "id": "60a16b60",
   "metadata": {
    "id": "60a16b60"
   },
   "outputs": [],
   "source": [
    "def train_step(model: torch.nn.Module,\n",
    "         data: torch.utils.data.DataLoader,\n",
    "         loss_fn: torch.nn.Module, \n",
    "         optimizer: torch.optim.Optimizer):\n",
    "    \n",
    "    model.train()\n",
    "    \n",
    "    train_loss, train_acc = 0, 0\n",
    "    \n",
    "    for batch, (X,y) in enumerate(data):\n",
    "        \n",
    "        X, y = X.to(device), y.to(device)\n",
    "        \n",
    "        y_pred = model(X)\n",
    "        \n",
    "        loss = loss_fn(y_pred,y)\n",
    "        train_loss += loss.item()\n",
    "        \n",
    "        optimizer.zero_grad()\n",
    "        \n",
    "        loss.backward()\n",
    "        \n",
    "        optimizer.step()\n",
    "        \n",
    "        y_pred_class = torch.argmax(torch.softmax(y_pred, dim=1), dim=1)\n",
    "        train_acc += (y_pred_class == y).sum().item()/len(y_pred)\n",
    "\n",
    "    # Adjust metrics to get average loss and accuracy per batch \n",
    "    train_loss = train_loss / len(data)\n",
    "    train_acc = train_acc / len(data)\n",
    "    return train_loss, train_acc"
   ]
  },
  {
   "cell_type": "code",
   "execution_count": 40,
   "id": "cc1a8426",
   "metadata": {
    "id": "cc1a8426"
   },
   "outputs": [],
   "source": [
    "def test_step(model: torch.nn.Module, \n",
    "              data: torch.utils.data.DataLoader, \n",
    "              loss_fn: torch.nn.Module):\n",
    "\n",
    "    model.eval() \n",
    "    \n",
    "\n",
    "    test_loss, test_acc = 0, 0\n",
    "    \n",
    "    \n",
    "    with torch.inference_mode():\n",
    "        for batch, (X, y) in enumerate(data):\n",
    "            \n",
    "            X, y = X.to(device), y.to(device)\n",
    "                \n",
    "            # 1. Forward pass\n",
    "            test_pred = model(X)\n",
    "\n",
    "            # 2. Calculate and accumulate loss\n",
    "            loss = loss_fn(test_pred, y)\n",
    "            test_loss += loss.item()\n",
    "            \n",
    "            # Calculate and accumulate accuracy\n",
    "            test_pred_class = test_pred.argmax(dim=1)\n",
    "            test_acc += ((test_pred_class == y).sum().item()/len(test_pred_class))\n",
    "            \n",
    "    # Adjust metrics to get average loss and accuracy per batch \n",
    "    test_loss = test_loss / len(data)\n",
    "    test_acc = test_acc / len(data)\n",
    "    return test_loss, test_acc"
   ]
  },
  {
   "cell_type": "code",
   "execution_count": 42,
   "id": "b2e5c155",
   "metadata": {},
   "outputs": [
    {
     "name": "stdout",
     "output_type": "stream",
     "text": [
      "Requirement already satisfied: tqdm in /Users/being_manav/anaconda3/lib/python3.10/site-packages (4.64.1)\r\n"
     ]
    }
   ],
   "source": [
    "!pip install tqdm"
   ]
  },
  {
   "cell_type": "code",
   "execution_count": 43,
   "id": "01bf3f95",
   "metadata": {
    "id": "01bf3f95"
   },
   "outputs": [],
   "source": [
    "from tqdm.auto import tqdm\n",
    "\n",
    "# 1. Take in various parameters required for training and test steps\n",
    "def train(model: torch.nn.Module, \n",
    "          train_data: torch.utils.data.DataLoader, \n",
    "          test_data: torch.utils.data.DataLoader, \n",
    "          optimizer: torch.optim.Optimizer,\n",
    "          loss_fn: torch.nn.Module = nn.CrossEntropyLoss(),\n",
    "          epochs: int = 10):\n",
    "    \n",
    "    # 2. Create empty results dictionary\n",
    "    results = {\"train_loss\": [],\n",
    "        \"train_acc\": [],\n",
    "        \"test_loss\": [],\n",
    "        \"test_acc\": []\n",
    "    }\n",
    "    \n",
    "    # 3. Loop through training and testing steps for a number of epochs\n",
    "    #for epochs in range(epochs_i,epochs_f+1):\n",
    "       # print(\"For\", epochs, \"iterations\")\n",
    "    for epoch in tqdm(range(epochs)):\n",
    "        train_loss, train_acc = train_step(model=model,\n",
    "                                            data=train_data,\n",
    "                                            loss_fn=loss_fn,\n",
    "                                            optimizer=optimizer)\n",
    "        test_loss, test_acc = test_step(model=model,\n",
    "                data=test_data,\n",
    "                loss_fn=loss_fn)\n",
    "        \n",
    "        # 4. Print out what's happening\n",
    "        print(\n",
    "            f\"Epoch: {epoch+1} | \"\n",
    "            f\"train_loss: {train_loss:.4f} | \"\n",
    "            f\"train_acc: {train_acc:.4f} | \"\n",
    "            f\"test_loss: {test_loss:.4f} | \"\n",
    "            f\"test_acc: {test_acc:.4f}\"\n",
    "                )\n",
    "\n",
    "        # 5. Update results dictionary\n",
    "        results[\"train_loss\"].append(train_loss)\n",
    "        results[\"train_acc\"].append(train_acc)\n",
    "        results[\"test_loss\"].append(test_loss)\n",
    "        results[\"test_acc\"].append(test_acc)\n",
    "\n",
    "    # 6. Return the filled results at the end of the epochs\n",
    "    return results"
   ]
  },
  {
   "cell_type": "markdown",
   "id": "58f195fb",
   "metadata": {},
   "source": [
    "# GPU Runtime "
   ]
  },
  {
   "cell_type": "code",
   "execution_count": 49,
   "id": "b7512b2d",
   "metadata": {},
   "outputs": [
    {
     "data": {
      "text/plain": [
       "'mps'"
      ]
     },
     "execution_count": 49,
     "metadata": {},
     "output_type": "execute_result"
    }
   ],
   "source": [
    "device = \"mps\"\n",
    "device"
   ]
  },
  {
   "cell_type": "code",
   "execution_count": 50,
   "id": "5019f51b",
   "metadata": {
    "colab": {
     "base_uri": "https://localhost:8080/",
     "height": 447,
     "referenced_widgets": [
      "3fa08c79be28427d83ab5e563150ef35",
      "14beded7635d42379e3909cb0c4aa053",
      "495342d984234cb9850d0a184478a90f",
      "f001f4dd96144e1ea3ff7e628807e7d8",
      "2b63a30f7a5648cb8ea05e2ce3a08e05",
      "40e26598073648e8bc3788d08a19ff97",
      "344044002a6d436cab3163c4c25eb399",
      "62577acd901e49cab704316082c590c8",
      "9c1fc944a6554f6e8c4d8f0dfb50ec93",
      "7af4e1a82537487386e2ab22e3c34bfd",
      "be83521454b148cb971e8817e57aa10d"
     ]
    },
    "id": "5019f51b",
    "outputId": "bf482de2-ecb2-4450-872e-705787bac4d5"
   },
   "outputs": [
    {
     "name": "stderr",
     "output_type": "stream",
     "text": [
      " 20%|█████████                                    | 1/5 [01:38<06:35, 98.92s/it]"
     ]
    },
    {
     "name": "stdout",
     "output_type": "stream",
     "text": [
      "Epoch: 1 | train_loss: 1.2031 | train_acc: 0.6052 | test_loss: 0.4555 | test_acc: 0.8359\n"
     ]
    },
    {
     "name": "stderr",
     "output_type": "stream",
     "text": [
      "\r",
      " 40%|█████████████████▌                          | 2/5 [03:20<05:00, 100.33s/it]"
     ]
    },
    {
     "name": "stdout",
     "output_type": "stream",
     "text": [
      "Epoch: 2 | train_loss: 0.3857 | train_acc: 0.8657 | test_loss: 0.4036 | test_acc: 0.8583\n"
     ]
    },
    {
     "name": "stderr",
     "output_type": "stream",
     "text": [
      "\r",
      " 60%|██████████████████████████▍                 | 3/5 [05:01<03:21, 100.86s/it]"
     ]
    },
    {
     "name": "stdout",
     "output_type": "stream",
     "text": [
      "Epoch: 3 | train_loss: 0.2314 | train_acc: 0.9187 | test_loss: 0.1155 | test_acc: 0.9630\n"
     ]
    },
    {
     "name": "stderr",
     "output_type": "stream",
     "text": [
      "\r",
      " 80%|███████████████████████████████████▏        | 4/5 [06:43<01:41, 101.13s/it]"
     ]
    },
    {
     "name": "stdout",
     "output_type": "stream",
     "text": [
      "Epoch: 4 | train_loss: 0.1698 | train_acc: 0.9405 | test_loss: 0.1515 | test_acc: 0.9477\n"
     ]
    },
    {
     "name": "stderr",
     "output_type": "stream",
     "text": [
      "100%|████████████████████████████████████████████| 5/5 [08:26<00:00, 101.22s/it]"
     ]
    },
    {
     "name": "stdout",
     "output_type": "stream",
     "text": [
      "Epoch: 5 | train_loss: 0.1308 | train_acc: 0.9546 | test_loss: 0.0967 | test_acc: 0.9657\n",
      "Total training time: 506.060 seconds\n"
     ]
    },
    {
     "name": "stderr",
     "output_type": "stream",
     "text": [
      "\n"
     ]
    }
   ],
   "source": [
    "torch.manual_seed(21) \n",
    "torch.cuda.manual_seed(21)\n",
    "                       \n",
    "model = network(3,len(data.classes)).to(device)\n",
    "\n",
    "\n",
    "loss_fn = nn.CrossEntropyLoss()\n",
    "optimizer = torch.optim.Adam(params=model.parameters(), lr=0.001)\n",
    "\n",
    "from timeit import default_timer as timer \n",
    "start_time = timer()\n",
    "\n",
    "model_results = train(model=model, \n",
    "                        train_data=train_dataloader,\n",
    "                        test_data=test_dataloader,\n",
    "                        optimizer=optimizer,\n",
    "                        loss_fn=loss_fn, \n",
    "                        epochs=5)\n",
    "                       \n",
    "\n",
    "end_time = timer()\n",
    "print(f\"Total training time: {end_time-start_time:.3f} seconds\")"
   ]
  },
  {
   "cell_type": "markdown",
   "id": "e55061fd",
   "metadata": {
    "id": "b0b5a1f2"
   },
   "source": [
    "# CPU Runtime "
   ]
  },
  {
   "cell_type": "code",
   "execution_count": 51,
   "id": "e101cffd",
   "metadata": {},
   "outputs": [
    {
     "data": {
      "text/plain": [
       "'cpu'"
      ]
     },
     "execution_count": 51,
     "metadata": {},
     "output_type": "execute_result"
    }
   ],
   "source": [
    "device = \"cpu\"\n",
    "device"
   ]
  },
  {
   "cell_type": "code",
   "execution_count": 52,
   "id": "e05610c5",
   "metadata": {},
   "outputs": [
    {
     "name": "stderr",
     "output_type": "stream",
     "text": [
      " 20%|████████▊                                   | 1/5 [03:25<13:43, 205.76s/it]"
     ]
    },
    {
     "name": "stdout",
     "output_type": "stream",
     "text": [
      "Epoch: 1 | train_loss: 1.2109 | train_acc: 0.6071 | test_loss: 0.3928 | test_acc: 0.8626\n"
     ]
    },
    {
     "name": "stderr",
     "output_type": "stream",
     "text": [
      "\r",
      " 40%|█████████████████▌                          | 2/5 [06:52<10:19, 206.43s/it]"
     ]
    },
    {
     "name": "stdout",
     "output_type": "stream",
     "text": [
      "Epoch: 2 | train_loss: 0.3713 | train_acc: 0.8715 | test_loss: 0.2918 | test_acc: 0.8974\n"
     ]
    },
    {
     "name": "stderr",
     "output_type": "stream",
     "text": [
      "\r",
      " 60%|██████████████████████████▍                 | 3/5 [10:18<06:52, 206.32s/it]"
     ]
    },
    {
     "name": "stdout",
     "output_type": "stream",
     "text": [
      "Epoch: 3 | train_loss: 0.2222 | train_acc: 0.9218 | test_loss: 0.0844 | test_acc: 0.9731\n"
     ]
    },
    {
     "name": "stderr",
     "output_type": "stream",
     "text": [
      "\r",
      " 80%|███████████████████████████████████▏        | 4/5 [13:49<03:28, 208.19s/it]"
     ]
    },
    {
     "name": "stdout",
     "output_type": "stream",
     "text": [
      "Epoch: 4 | train_loss: 0.1644 | train_acc: 0.9424 | test_loss: 0.0665 | test_acc: 0.9774\n"
     ]
    },
    {
     "name": "stderr",
     "output_type": "stream",
     "text": [
      "100%|████████████████████████████████████████████| 5/5 [17:14<00:00, 206.94s/it]"
     ]
    },
    {
     "name": "stdout",
     "output_type": "stream",
     "text": [
      "Epoch: 5 | train_loss: 0.1332 | train_acc: 0.9527 | test_loss: 0.0503 | test_acc: 0.9826\n",
      "Total training time: 1034.607 seconds\n"
     ]
    },
    {
     "name": "stderr",
     "output_type": "stream",
     "text": [
      "\n"
     ]
    }
   ],
   "source": [
    "torch.manual_seed(21) \n",
    "torch.cuda.manual_seed(21)\n",
    "                       \n",
    "model = network(3,len(data.classes)).to(device)\n",
    "\n",
    "\n",
    "loss_fn = nn.CrossEntropyLoss()\n",
    "optimizer = torch.optim.Adam(params=model.parameters(), lr=0.001)\n",
    "\n",
    "from timeit import default_timer as timer \n",
    "start_time = timer()\n",
    "\n",
    "model_results = train(model=model, \n",
    "                        train_data=train_dataloader,\n",
    "                        test_data=test_dataloader,\n",
    "                        optimizer=optimizer,\n",
    "                        loss_fn=loss_fn, \n",
    "                        epochs=5)\n",
    "                       \n",
    "\n",
    "end_time = timer()\n",
    "print(f\"Total training time: {end_time-start_time:.3f} seconds\")"
   ]
  },
  {
   "cell_type": "code",
   "execution_count": null,
   "id": "be245ad1",
   "metadata": {},
   "outputs": [],
   "source": []
  }
 ],
 "metadata": {
  "accelerator": "GPU",
  "colab": {
   "provenance": []
  },
  "gpuClass": "standard",
  "kernelspec": {
   "display_name": "Python 3 (ipykernel)",
   "language": "python",
   "name": "python3"
  },
  "language_info": {
   "codemirror_mode": {
    "name": "ipython",
    "version": 3
   },
   "file_extension": ".py",
   "mimetype": "text/x-python",
   "name": "python",
   "nbconvert_exporter": "python",
   "pygments_lexer": "ipython3",
   "version": "3.11.3"
  },
  "widgets": {
   "application/vnd.jupyter.widget-state+json": {
    "14beded7635d42379e3909cb0c4aa053": {
     "model_module": "@jupyter-widgets/controls",
     "model_module_version": "1.5.0",
     "model_name": "HTMLModel",
     "state": {
      "_dom_classes": [],
      "_model_module": "@jupyter-widgets/controls",
      "_model_module_version": "1.5.0",
      "_model_name": "HTMLModel",
      "_view_count": null,
      "_view_module": "@jupyter-widgets/controls",
      "_view_module_version": "1.5.0",
      "_view_name": "HTMLView",
      "description": "",
      "description_tooltip": null,
      "layout": "IPY_MODEL_40e26598073648e8bc3788d08a19ff97",
      "placeholder": "​",
      "style": "IPY_MODEL_344044002a6d436cab3163c4c25eb399",
      "value": " 20%"
     }
    },
    "2b63a30f7a5648cb8ea05e2ce3a08e05": {
     "model_module": "@jupyter-widgets/base",
     "model_module_version": "1.2.0",
     "model_name": "LayoutModel",
     "state": {
      "_model_module": "@jupyter-widgets/base",
      "_model_module_version": "1.2.0",
      "_model_name": "LayoutModel",
      "_view_count": null,
      "_view_module": "@jupyter-widgets/base",
      "_view_module_version": "1.2.0",
      "_view_name": "LayoutView",
      "align_content": null,
      "align_items": null,
      "align_self": null,
      "border": null,
      "bottom": null,
      "display": null,
      "flex": null,
      "flex_flow": null,
      "grid_area": null,
      "grid_auto_columns": null,
      "grid_auto_flow": null,
      "grid_auto_rows": null,
      "grid_column": null,
      "grid_gap": null,
      "grid_row": null,
      "grid_template_areas": null,
      "grid_template_columns": null,
      "grid_template_rows": null,
      "height": null,
      "justify_content": null,
      "justify_items": null,
      "left": null,
      "margin": null,
      "max_height": null,
      "max_width": null,
      "min_height": null,
      "min_width": null,
      "object_fit": null,
      "object_position": null,
      "order": null,
      "overflow": null,
      "overflow_x": null,
      "overflow_y": null,
      "padding": null,
      "right": null,
      "top": null,
      "visibility": null,
      "width": null
     }
    },
    "344044002a6d436cab3163c4c25eb399": {
     "model_module": "@jupyter-widgets/controls",
     "model_module_version": "1.5.0",
     "model_name": "DescriptionStyleModel",
     "state": {
      "_model_module": "@jupyter-widgets/controls",
      "_model_module_version": "1.5.0",
      "_model_name": "DescriptionStyleModel",
      "_view_count": null,
      "_view_module": "@jupyter-widgets/base",
      "_view_module_version": "1.2.0",
      "_view_name": "StyleView",
      "description_width": ""
     }
    },
    "3fa08c79be28427d83ab5e563150ef35": {
     "model_module": "@jupyter-widgets/controls",
     "model_module_version": "1.5.0",
     "model_name": "HBoxModel",
     "state": {
      "_dom_classes": [],
      "_model_module": "@jupyter-widgets/controls",
      "_model_module_version": "1.5.0",
      "_model_name": "HBoxModel",
      "_view_count": null,
      "_view_module": "@jupyter-widgets/controls",
      "_view_module_version": "1.5.0",
      "_view_name": "HBoxView",
      "box_style": "",
      "children": [
       "IPY_MODEL_14beded7635d42379e3909cb0c4aa053",
       "IPY_MODEL_495342d984234cb9850d0a184478a90f",
       "IPY_MODEL_f001f4dd96144e1ea3ff7e628807e7d8"
      ],
      "layout": "IPY_MODEL_2b63a30f7a5648cb8ea05e2ce3a08e05"
     }
    },
    "40e26598073648e8bc3788d08a19ff97": {
     "model_module": "@jupyter-widgets/base",
     "model_module_version": "1.2.0",
     "model_name": "LayoutModel",
     "state": {
      "_model_module": "@jupyter-widgets/base",
      "_model_module_version": "1.2.0",
      "_model_name": "LayoutModel",
      "_view_count": null,
      "_view_module": "@jupyter-widgets/base",
      "_view_module_version": "1.2.0",
      "_view_name": "LayoutView",
      "align_content": null,
      "align_items": null,
      "align_self": null,
      "border": null,
      "bottom": null,
      "display": null,
      "flex": null,
      "flex_flow": null,
      "grid_area": null,
      "grid_auto_columns": null,
      "grid_auto_flow": null,
      "grid_auto_rows": null,
      "grid_column": null,
      "grid_gap": null,
      "grid_row": null,
      "grid_template_areas": null,
      "grid_template_columns": null,
      "grid_template_rows": null,
      "height": null,
      "justify_content": null,
      "justify_items": null,
      "left": null,
      "margin": null,
      "max_height": null,
      "max_width": null,
      "min_height": null,
      "min_width": null,
      "object_fit": null,
      "object_position": null,
      "order": null,
      "overflow": null,
      "overflow_x": null,
      "overflow_y": null,
      "padding": null,
      "right": null,
      "top": null,
      "visibility": null,
      "width": null
     }
    },
    "495342d984234cb9850d0a184478a90f": {
     "model_module": "@jupyter-widgets/controls",
     "model_module_version": "1.5.0",
     "model_name": "FloatProgressModel",
     "state": {
      "_dom_classes": [],
      "_model_module": "@jupyter-widgets/controls",
      "_model_module_version": "1.5.0",
      "_model_name": "FloatProgressModel",
      "_view_count": null,
      "_view_module": "@jupyter-widgets/controls",
      "_view_module_version": "1.5.0",
      "_view_name": "ProgressView",
      "bar_style": "danger",
      "description": "",
      "description_tooltip": null,
      "layout": "IPY_MODEL_62577acd901e49cab704316082c590c8",
      "max": 10,
      "min": 0,
      "orientation": "horizontal",
      "style": "IPY_MODEL_9c1fc944a6554f6e8c4d8f0dfb50ec93",
      "value": 2
     }
    },
    "62577acd901e49cab704316082c590c8": {
     "model_module": "@jupyter-widgets/base",
     "model_module_version": "1.2.0",
     "model_name": "LayoutModel",
     "state": {
      "_model_module": "@jupyter-widgets/base",
      "_model_module_version": "1.2.0",
      "_model_name": "LayoutModel",
      "_view_count": null,
      "_view_module": "@jupyter-widgets/base",
      "_view_module_version": "1.2.0",
      "_view_name": "LayoutView",
      "align_content": null,
      "align_items": null,
      "align_self": null,
      "border": null,
      "bottom": null,
      "display": null,
      "flex": null,
      "flex_flow": null,
      "grid_area": null,
      "grid_auto_columns": null,
      "grid_auto_flow": null,
      "grid_auto_rows": null,
      "grid_column": null,
      "grid_gap": null,
      "grid_row": null,
      "grid_template_areas": null,
      "grid_template_columns": null,
      "grid_template_rows": null,
      "height": null,
      "justify_content": null,
      "justify_items": null,
      "left": null,
      "margin": null,
      "max_height": null,
      "max_width": null,
      "min_height": null,
      "min_width": null,
      "object_fit": null,
      "object_position": null,
      "order": null,
      "overflow": null,
      "overflow_x": null,
      "overflow_y": null,
      "padding": null,
      "right": null,
      "top": null,
      "visibility": null,
      "width": null
     }
    },
    "7af4e1a82537487386e2ab22e3c34bfd": {
     "model_module": "@jupyter-widgets/base",
     "model_module_version": "1.2.0",
     "model_name": "LayoutModel",
     "state": {
      "_model_module": "@jupyter-widgets/base",
      "_model_module_version": "1.2.0",
      "_model_name": "LayoutModel",
      "_view_count": null,
      "_view_module": "@jupyter-widgets/base",
      "_view_module_version": "1.2.0",
      "_view_name": "LayoutView",
      "align_content": null,
      "align_items": null,
      "align_self": null,
      "border": null,
      "bottom": null,
      "display": null,
      "flex": null,
      "flex_flow": null,
      "grid_area": null,
      "grid_auto_columns": null,
      "grid_auto_flow": null,
      "grid_auto_rows": null,
      "grid_column": null,
      "grid_gap": null,
      "grid_row": null,
      "grid_template_areas": null,
      "grid_template_columns": null,
      "grid_template_rows": null,
      "height": null,
      "justify_content": null,
      "justify_items": null,
      "left": null,
      "margin": null,
      "max_height": null,
      "max_width": null,
      "min_height": null,
      "min_width": null,
      "object_fit": null,
      "object_position": null,
      "order": null,
      "overflow": null,
      "overflow_x": null,
      "overflow_y": null,
      "padding": null,
      "right": null,
      "top": null,
      "visibility": null,
      "width": null
     }
    },
    "9c1fc944a6554f6e8c4d8f0dfb50ec93": {
     "model_module": "@jupyter-widgets/controls",
     "model_module_version": "1.5.0",
     "model_name": "ProgressStyleModel",
     "state": {
      "_model_module": "@jupyter-widgets/controls",
      "_model_module_version": "1.5.0",
      "_model_name": "ProgressStyleModel",
      "_view_count": null,
      "_view_module": "@jupyter-widgets/base",
      "_view_module_version": "1.2.0",
      "_view_name": "StyleView",
      "bar_color": null,
      "description_width": ""
     }
    },
    "be83521454b148cb971e8817e57aa10d": {
     "model_module": "@jupyter-widgets/controls",
     "model_module_version": "1.5.0",
     "model_name": "DescriptionStyleModel",
     "state": {
      "_model_module": "@jupyter-widgets/controls",
      "_model_module_version": "1.5.0",
      "_model_name": "DescriptionStyleModel",
      "_view_count": null,
      "_view_module": "@jupyter-widgets/base",
      "_view_module_version": "1.2.0",
      "_view_name": "StyleView",
      "description_width": ""
     }
    },
    "f001f4dd96144e1ea3ff7e628807e7d8": {
     "model_module": "@jupyter-widgets/controls",
     "model_module_version": "1.5.0",
     "model_name": "HTMLModel",
     "state": {
      "_dom_classes": [],
      "_model_module": "@jupyter-widgets/controls",
      "_model_module_version": "1.5.0",
      "_model_name": "HTMLModel",
      "_view_count": null,
      "_view_module": "@jupyter-widgets/controls",
      "_view_module_version": "1.5.0",
      "_view_name": "HTMLView",
      "description": "",
      "description_tooltip": null,
      "layout": "IPY_MODEL_7af4e1a82537487386e2ab22e3c34bfd",
      "placeholder": "​",
      "style": "IPY_MODEL_be83521454b148cb971e8817e57aa10d",
      "value": " 2/10 [05:32&lt;16:19, 122.38s/it]"
     }
    }
   }
  }
 },
 "nbformat": 4,
 "nbformat_minor": 5
}
